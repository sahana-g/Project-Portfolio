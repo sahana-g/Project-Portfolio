{
 "cells": [
  {
   "cell_type": "code",
   "execution_count": 3,
   "metadata": {},
   "outputs": [],
   "source": [
    "####first converting positive fragments for sbp data for each celltype to the following dict: the key of the dict is the 300bp sequence\n",
    "####the value of the dict is a string that contains 0s in every spot except 1s in spots where there is a positive A. \n",
    "####positions of the positive As are found by running the DRACH scanner (taken from existing Github code) and adjusting ofor +2 in the index (this function returns the position of the D, we want the position of the A)\n",
    "\n",
    "import csv\n",
    "import pickle\n",
    "import torch"
   ]
  },
  {
   "cell_type": "code",
   "execution_count": 4,
   "metadata": {},
   "outputs": [],
   "source": [
    "##create new_dict for each positive cell_type\n",
    "HepG2_pos_sample_seq_vectors = {}\n",
    "Hela_pos_sample_seq_vectors = {}\n",
    "Hela_RIP_pos_sample_seq_vectors = {}\n",
    "HEK293_pos_sample_seq_vectors = {}\n",
    "\n",
    "#initialize DRACH motifs:\n",
    "def DRACH_motif():\n",
    "    D = ['G', 'A', 'U']\n",
    "    R = ['G', 'A']\n",
    "    H = ['A', 'U', 'C']\n",
    "    motifs = []\n",
    "    for i in D:\n",
    "        for j in R:\n",
    "            for k in H:\n",
    "                motifs.append(i + j + 'A' + 'C' + k)\n",
    "    return motifs\n",
    "\n",
    "def scan_motifs(seq, motifs):\n",
    "    locs = []\n",
    "    for m in motifs:\n",
    "        idx = seq.find(m)\n",
    "        if idx != -1:\n",
    "            locs.append(idx)\n",
    "    return locs\n",
    "\n",
    "mots = DRACH_motif()\n",
    "\n",
    "def tsv_to_vector(filename, dict_name):\n",
    "    \n",
    "    with open(filename) as fd:\n",
    "        count = 0\n",
    "        rd = csv.reader(fd, delimiter=\"\\t\") #, quotechar='\"\n",
    "        for row in rd:\n",
    "            curr_seq = row[1]\n",
    "            if curr_seq in dict_name.keys():\n",
    "                print(\"True\")\n",
    "                continue\n",
    "            \n",
    "            curr_vector = \"\"\n",
    "            curr_vector = curr_vector.zfill(300)\n",
    "            curr_pos_a = scan_motifs(curr_seq, mots)\n",
    "            for pos in curr_pos_a:\n",
    "                curr_vector = curr_vector[:pos+2] + \"1\" + curr_vector[pos+3:]\n",
    "            dict_name[curr_seq] = curr_vector\n",
    "            count +=1\n",
    "    print(count)\n",
    "    \n",
    "    return\n",
    "        \n",
    "def pickle_dict(dict_name, given_file):\n",
    "    file_to_write = open(given_file, \"wb\")\n",
    "    torch.save(dict_name, file_to_write)\n",
    "    return "
   ]
  },
  {
   "cell_type": "code",
   "execution_count": 5,
   "metadata": {},
   "outputs": [
    {
     "name": "stdout",
     "output_type": "stream",
     "text": [
      "True\n",
      "True\n",
      "True\n",
      "True\n",
      "True\n",
      "True\n",
      "12231\n",
      "True\n",
      "True\n",
      "True\n",
      "True\n",
      "True\n",
      "True\n",
      "10889\n",
      "True\n",
      "True\n",
      "True\n",
      "True\n",
      "True\n",
      "True\n",
      "True\n",
      "True\n",
      "True\n",
      "True\n",
      "True\n",
      "True\n",
      "True\n",
      "True\n",
      "True\n",
      "True\n",
      "True\n",
      "True\n",
      "True\n",
      "True\n",
      "31553\n",
      "True\n",
      "True\n",
      "True\n",
      "True\n",
      "True\n",
      "True\n",
      "11251\n"
     ]
    }
   ],
   "source": [
    "tsv_to_vector(\"sbp_polyA_RNA_seq_info/sbp_polyA_RNA_HEK293_mrna_seqs.tsv\", HEK293_pos_sample_seq_vectors)\n",
    "#print(HEK293_pos_sample_seq_vectors)\n",
    "pickle_dict(HEK293_pos_sample_seq_vectors, \"HEK293_pos_sample_seq_vectors.pickle\")\n",
    "\n",
    "tsv_to_vector(\"sbp_polyA_RNA_seq_info/sbp_polyA_RNA_Hela_mrna_seqs.tsv\", Hela_pos_sample_seq_vectors)\n",
    "pickle_dict(Hela_pos_sample_seq_vectors, \"Hela_pos_sample_seq_vectors.pickle\")\n",
    "\n",
    "tsv_to_vector(\"sbp_polyA_RNA_seq_info/sbp_polyA_RNA_Hela_RIP_mrna_seqs.tsv\", Hela_RIP_pos_sample_seq_vectors)\n",
    "pickle_dict(Hela_RIP_pos_sample_seq_vectors, \"Hela_RIP_pos_sample_seq_vectors.pickle\")\n",
    "\n",
    "tsv_to_vector(\"sbp_polyA_RNA_seq_info/sbp_polyA_RNA_HepG2_mrna_seqs.tsv\", HepG2_pos_sample_seq_vectors)\n",
    "pickle_dict(Hela_pos_sample_seq_vectors, \"HepG2_pos_sample_seq_vectors.pickle\")\n"
   ]
  },
  {
   "cell_type": "code",
   "execution_count": null,
   "metadata": {},
   "outputs": [],
   "source": [
    "with open(\"HEK293_pos_sample_seq_vectors.pickle\", 'rb') as test:\n",
    "    ftest = torch.load(test)\n",
    "    print(ftest)"
   ]
  },
  {
   "cell_type": "code",
   "execution_count": null,
   "metadata": {},
   "outputs": [],
   "source": [
    "'''\n",
    "data on repetitions (# same sequences and final lengths of file)\n",
    "'''\n"
   ]
  },
  {
   "cell_type": "code",
   "execution_count": null,
   "metadata": {},
   "outputs": [],
   "source": []
  }
 ],
 "metadata": {
  "kernelspec": {
   "display_name": "Python 3",
   "language": "python",
   "name": "python3"
  },
  "language_info": {
   "codemirror_mode": {
    "name": "ipython",
    "version": 3
   },
   "file_extension": ".py",
   "mimetype": "text/x-python",
   "name": "python",
   "nbconvert_exporter": "python",
   "pygments_lexer": "ipython3",
   "version": "3.7.6"
  }
 },
 "nbformat": 4,
 "nbformat_minor": 5
}
